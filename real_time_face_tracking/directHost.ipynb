{
 "cells": [
  {
   "cell_type": "code",
   "execution_count": 8,
   "metadata": {},
   "outputs": [],
   "source": [
    "import cv2\n",
    "import tensorflow as tf\n",
    "import numpy as np\n",
    "from tensorflow.keras.models import load_model"
   ]
  },
  {
   "cell_type": "code",
   "execution_count": 9,
   "metadata": {},
   "outputs": [],
   "source": [
    "def localization_loss(y_true, y_pred):\n",
    "    # Coordinate differences\n",
    "    delta_coord = tf.reduce_sum(tf.square(y_true[:, :2] - y_pred[:, :2]))\n",
    "    \n",
    "    # Height and width differences\n",
    "    h_true = y_true[:, 3] - y_true[:, 1]\n",
    "    w_true = y_true[:, 2] - y_true[:, 0]\n",
    "\n",
    "    h_pred = y_pred[:, 3] - y_pred[:, 1]\n",
    "    w_pred = y_pred[:, 2] - y_pred[:, 0]\n",
    "\n",
    "    delta_size = tf.reduce_sum(tf.square(w_true - w_pred) + tf.square(h_true - h_pred))\n",
    "\n",
    "    return delta_coord + delta_size"
   ]
  },
  {
   "cell_type": "code",
   "execution_count": 10,
   "metadata": {},
   "outputs": [],
   "source": [
    "facetracker = load_model('facetracker.h5', custom_objects={'localization_loss': localization_loss})"
   ]
  },
  {
   "cell_type": "code",
   "execution_count": null,
   "metadata": {},
   "outputs": [],
   "source": [
    "cap=cv2.VideoCapture(0)\n",
    "while cap.isOpened():\n",
    "    _,frame=cap.read()\n",
    "    frame=frame[50:500,50:500,:]#we need 450*450px\n",
    "    \n",
    "    rgb=cv2.cvtColor(frame,cv2.COLOR_BGR2RGB)\n",
    "    resized=tf.image.resize(rgb,(120,120))\n",
    "    \n",
    "    y_pred=facetracker.predict(np.expand_dims(resized/255,0))\n",
    "    sample_coords=y_pred[1][0]\n",
    "    \n",
    "    if y_pred[0]>0.5:\n",
    "        \n",
    "        cv2.rectangle(frame,\n",
    "            tuple(np.multiply(sample_coords[:2],[450,450]).astype(int)),\n",
    "            tuple(np.multiply(sample_coords[2:], [450, 450]).astype(int)),\n",
    "            (255,0,0), 2\n",
    "        )\n",
    "        cv2.rectangle(frame, \n",
    "            tuple(np.add(np.multiply(sample_coords[:2], [450,450]).astype(int), \n",
    "                [0,-30])),\n",
    "            tuple(np.add(np.multiply(sample_coords[:2], [450,450]).astype(int),\n",
    "                [80,0])), \n",
    "            (255,0,0), -1\n",
    "        )\n",
    "        \n",
    "        cv2.putText(frame, 'face', tuple(np.add(np.multiply(sample_coords[:2], [450,450]).astype(int),\n",
    "            [0,-5])),\n",
    "            cv2.FONT_HERSHEY_SIMPLEX, 1, (255,255,255), 2, cv2.LINE_AA\n",
    "        )\n",
    "        \n",
    "    cv2.imshow('EyeTrack',frame)\n",
    "    if cv2.waitKey(1) & 0xFF == ord('q'):\n",
    "        break\n",
    "cap.release()\n",
    "cv2.destroyAllWindows()"
   ]
  }
 ],
 "metadata": {
  "kernelspec": {
   "display_name": "py310",
   "language": "python",
   "name": "python3"
  },
  "language_info": {
   "codemirror_mode": {
    "name": "ipython",
    "version": 3
   },
   "file_extension": ".py",
   "mimetype": "text/x-python",
   "name": "python",
   "nbconvert_exporter": "python",
   "pygments_lexer": "ipython3",
   "version": "3.10.15"
  }
 },
 "nbformat": 4,
 "nbformat_minor": 2
}
